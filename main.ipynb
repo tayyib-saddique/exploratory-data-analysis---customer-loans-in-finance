{
 "cells": [
  {
   "cell_type": "code",
   "execution_count": 23,
   "metadata": {},
   "outputs": [],
   "source": [
    "from db_utils import DataFrameInfo, DataTransform, DataFrameTransform, Plotter\n",
    "import pandas as pd\n",
    "import matplotlib.pyplot as plt\n",
    "import numpy as np\n",
    "from collections import Counter"
   ]
  },
  {
   "cell_type": "code",
   "execution_count": 2,
   "metadata": {},
   "outputs": [
    {
     "name": "stdout",
     "output_type": "stream",
     "text": [
      "<class 'pandas.core.frame.DataFrame'>\n",
      "RangeIndex: 54231 entries, 0 to 54230\n",
      "Data columns (total 42 columns):\n",
      " #   Column                       Non-Null Count  Dtype  \n",
      "---  ------                       --------------  -----  \n",
      " 0   Unnamed: 0                   54231 non-null  int64  \n",
      " 1   id                           54231 non-null  int64  \n",
      " 2   loan_amount                  54231 non-null  int64  \n",
      " 3   funded_amount                54231 non-null  float64\n",
      " 4   funded_amount_inv            54231 non-null  float64\n",
      " 5   term                         49459 non-null  object \n",
      " 6   int_rate                     54231 non-null  float64\n",
      " 7   instalment                   54231 non-null  float64\n",
      " 8   grade                        54231 non-null  object \n",
      " 9   sub_grade                    54231 non-null  object \n",
      " 10  employment_length            52113 non-null  object \n",
      " 11  home_ownership               54231 non-null  object \n",
      " 12  annual_inc                   54231 non-null  float64\n",
      " 13  verification_status          54231 non-null  object \n",
      " 14  issue_date                   54231 non-null  object \n",
      " 15  loan_status                  54231 non-null  object \n",
      " 16  payment_plan                 54231 non-null  object \n",
      " 17  purpose                      54231 non-null  object \n",
      " 18  dti                          54231 non-null  float64\n",
      " 19  delinq_2yrs                  54231 non-null  int64  \n",
      " 20  earliest_credit_line         54231 non-null  object \n",
      " 21  inq_last_6mths               54231 non-null  int64  \n",
      " 22  mths_since_last_delinq       54231 non-null  float64\n",
      " 23  mths_since_last_record       54231 non-null  float64\n",
      " 24  open_accounts                54231 non-null  int64  \n",
      " 25  total_accounts               54231 non-null  int64  \n",
      " 26  out_prncp                    54231 non-null  float64\n",
      " 27  total_payment                54231 non-null  float64\n",
      " 28  total_payment_inv            54231 non-null  float64\n",
      " 29  total_rec_prncp              54231 non-null  float64\n",
      " 30  total_rec_int                54231 non-null  float64\n",
      " 31  total_rec_late_fee           54231 non-null  float64\n",
      " 32  recoveries                   54231 non-null  float64\n",
      " 33  collection_recovery_fee      54231 non-null  float64\n",
      " 34  last_payment_date            54158 non-null  object \n",
      " 35  last_payment_amount          54231 non-null  float64\n",
      " 36  next_payment_date            21623 non-null  object \n",
      " 37  last_credit_pull_date        54224 non-null  object \n",
      " 38  collections_12_mths_ex_med   54231 non-null  float64\n",
      " 39  mths_since_last_major_derog  54231 non-null  float64\n",
      " 40  policy_code                  54231 non-null  int64  \n",
      " 41  application_type             54231 non-null  object \n",
      "dtypes: float64(19), int64(8), object(15)\n",
      "memory usage: 17.4+ MB\n"
     ]
    }
   ],
   "source": [
    "df = pd.read_csv('transformed_loan_payments')\n",
    "df.info()"
   ]
  },
  {
   "cell_type": "code",
   "execution_count": 3,
   "metadata": {},
   "outputs": [
    {
     "name": "stdout",
     "output_type": "stream",
     "text": [
      "62.62%\n",
      "62.75%\n"
     ]
    }
   ],
   "source": [
    "out_prncp_zeros = len(df.loc[df['out_prncp'] == float(0.00)])\n",
    "funding = len(df.loc[df['funded_amount']  > 0])\n",
    "funding_inv = len(df.loc[df['funded_amount_inv']  > 0])\n",
    "loans_recovered_against_total_funding = round(out_prncp_zeros / funding * 100, 2)\n",
    "loans_recovered_against_investor_funding = round(out_prncp_zeros / funding_inv * 100, 2)\n",
    "\n",
    "\n",
    "print(f'{loans_recovered_against_total_funding}%')\n",
    "print(f'{loans_recovered_against_investor_funding}%')"
   ]
  },
  {
   "cell_type": "code",
   "execution_count": 4,
   "metadata": {},
   "outputs": [
    {
     "data": {
      "image/png": "[encoded data removed]",
      "text/plain": [
       "<Figure size 640x480 with 1 Axes>"
      ]
     },
     "metadata": {},
     "output_type": "display_data"
    }
   ],
   "source": [
    "labels = ['total_funding','investor_funding']\n",
    "recovery_percent = [loans_recovered_against_total_funding, loans_recovered_against_investor_funding]\n",
    "\n",
    "plt.barh(labels, recovery_percent )\n",
    "for index, value in enumerate(recovery_percent):\n",
    "    plt.text(value, index, f'{value}%')"
   ]
  },
  {
   "cell_type": "code",
   "execution_count": 5,
   "metadata": {},
   "outputs": [
    {
     "name": "stdout",
     "output_type": "stream",
     "text": [
      "10.27%\n",
      "48.98%\n"
     ]
    }
   ],
   "source": [
    "charged_off_loans = len(df.loc[df['loan_status'] == 'Charged Off']) / len(df['loan_status']) * 100\n",
    "print(f'{round(charged_off_loans, 2)}%')\n",
    "\n",
    "total_amount_paid_charged_off_loan = (df.loc[df['loan_status'] == 'Charged Off']['total_payment'].sum() / df.loc[df['loan_status'] == 'Charged Off']['loan_amount'].sum()) * 100\n",
    "print(f'{round(total_amount_paid_charged_off_loan, 2)}%')"
   ]
  },
  {
   "cell_type": "code",
   "execution_count": 6,
   "metadata": {},
   "outputs": [
    {
     "name": "stdout",
     "output_type": "stream",
     "text": [
      "$3141768.36\n",
      "$64137103.41\n"
     ]
    }
   ],
   "source": [
    "df['term_amount'] = df['term'].str.replace(r'\\D', '', regex = True).astype(np.float64)\n",
    "df['term_amount']\n",
    "\n",
    "DataTransform(df).convert_to_datetime('last_payment_date')\n",
    "DataTransform(df).convert_to_datetime('issue_date')\n",
    "df['months_paid'] = (df[\"last_payment_date\"].dt.year - df[\"issue_date\"].dt.year) * 12 + (df[\"last_payment_date\"].dt.month - df[\"issue_date\"].dt.month)\n",
    "df['months_left_over'] = df['term_amount'] - df['months_paid'] \n",
    "\n",
    "df['revenue lost'] =df.loc[df['loan_status'] == 'Charged Off']['last_payment_amount'] * pow(1+(df.loc[df['loan_status'] == 'Charged Off']['int_rate']/100), (df['months_left_over']/12))\n",
    "revenue_lost_int = df['revenue lost'].sum()\n",
    "\n",
    "print(f'${round(revenue_lost_int, 2)}')\n",
    "\n",
    "df['unpaid loss'] = df.loc[df['loan_status'] == 'Charged Off']['last_payment_amount']*df['months_left_over']\n",
    "revenue_lost_total = df['unpaid loss'].sum()\n",
    "\n",
    "print(f'${round(revenue_lost_total, 2)}')"
   ]
  },
  {
   "cell_type": "code",
   "execution_count": 8,
   "metadata": {},
   "outputs": [
    {
     "name": "stdout",
     "output_type": "stream",
     "text": [
      "Number of late payments is 686\n",
      "1.26% of all payments were late\n",
      "The potential revenue loss if late customers were charged off is £4541594588.75\n",
      "The potential revenue loss if late customers were charged off and current charged off customers is £4605731692.16\n"
     ]
    }
   ],
   "source": [
    "late_payments = df[(df['loan_status'] == 'Late (16-30 days)') | (df[\"loan_status\"] == \"Late (31-120 days)\")].shape[0]\n",
    "print(f'Number of late payments is {late_payments}')\n",
    "\n",
    "percent_late = late_payments / len(df['loan_status']) * 100\n",
    "print(f'{round(percent_late, 2)}% of all payments were late')\n",
    "\n",
    "df[\"revenue_lost\"] = df[\"last_payment_amount\"]*df[\"months_left_over\"]\n",
    "revenue_lost = df[\"revenue_lost\"].sum()\n",
    "print(f\"Potential revenue loss if late customers were charged off is £{round(revenue_lost, 2)}\")\n",
    "\n",
    "revenue_lost_total = revenue_lost_total + revenue_lost\n",
    "print(f\"Potential revenue loss if late customers were charged off and current charged off customers is £{round(revenue_lost_total, 2)}\")"
   ]
  },
  {
   "cell_type": "code",
   "execution_count": 40,
   "metadata": {},
   "outputs": [
    {
     "name": "stdout",
     "output_type": "stream",
     "text": [
      "The Grade which is most common for loan statuses which are late is C - with over 186 instances\n",
      "The Grade which is most common for loan statuses which are charged off is C - with over 1490 instances\n",
      "The purpose of the loan which is most common for loan statuses which are late is debt_consolidation - with over 431 instances\n",
      "The purpose of the loan which is most common for loan statuses which are charged off is debt_consolidation - with over 3073 instances\n",
      "Of all loans which are late, the most common home ownership value is RENT - with over 309 instances\n",
      "Of all loans which are charged off, the most common home ownership value is RENT - with over 2608 instances\n",
      "Of all loans which are late, the most common policy code is 1 - with over 686 instances\n",
      "Of all loans which are charged off, the most common policy code is 1 - with over 5571 instances\n"
     ]
    }
   ],
   "source": [
    "\n",
    "\n",
    "late = df[(df['loan_status'] == 'Late (16-30 days)') | (df[\"loan_status\"] == \"Late (31-120 days)\")]\n",
    "charged_off = df[(df['loan_status'] == 'Charged Off')]\n",
    "\n",
    "print(f\"The Grade which is most common for loan statuses which are late is {Counter(late['grade']).most_common(1)[0][0]} - with over {Counter(late['grade']).most_common(1)[0][1]} instances\")\n",
    "print(f\"The Grade which is most common for loan statuses which are charged off is {Counter(charged_off['grade']).most_common(1)[0][0]} - with over {Counter(charged_off['grade']).most_common(1)[0][1]} instances\")\n",
    "\n",
    "\n",
    "print(f\"The purpose of the loan which is most common for loan statuses which are late is {Counter(late['purpose']).most_common(1)[0][0]} - with over {Counter(late['purpose']).most_common(1)[0][1]} instances\")\n",
    "print(f\"The purpose of the loan which is most common for loan statuses which are charged off is {Counter(charged_off['purpose']).most_common(1)[0][0]} - with over {Counter(charged_off['purpose']).most_common(1)[0][1]} instances\")\n",
    "\n",
    "print(f\"Of all loans which are late, the most common home ownership value is {Counter(late['home_ownership']).most_common(1)[0][0]} - with over {Counter(late['home_ownership']).most_common(1)[0][1]} instances\")\n",
    "print(f\"Of all loans which are charged off, the most common home ownership value is {Counter(charged_off['home_ownership']).most_common(1)[0][0]} - with over {Counter(charged_off['home_ownership']).most_common(1)[0][1]} instances\")\n",
    "\n",
    "print(f\"Of all loans which are late, the most common policy code is {Counter(late['policy_code']).most_common(1)[0][0]} - with over {Counter(late['policy_code']).most_common(1)[0][1]} instances\")\n",
    "print(f\"Of all loans which are charged off, the most common policy code is {Counter(charged_off['policy_code']).most_common(1)[0][0]} - with over {Counter(charged_off['policy_code']).most_common(1)[0][1]} instances\")\n"
   ]
  }
 ],
 "metadata": {
  "kernelspec": {
   "display_name": "base",
   "language": "python",
   "name": "python3"
  },
  "language_info": {
   "codemirror_mode": {
    "name": "ipython",
    "version": 3
   },
   "file_extension": ".py",
   "mimetype": "text/x-python",
   "name": "python",
   "nbconvert_exporter": "python",
   "pygments_lexer": "ipython3",
   "version": "3.9.13"
  }
 },
 "nbformat": 4,
 "nbformat_minor": 2
}
